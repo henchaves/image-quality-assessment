{
 "cells": [
  {
   "cell_type": "code",
   "execution_count": 36,
   "id": "667c239d",
   "metadata": {
    "pycharm": {
     "is_executing": true
    }
   },
   "outputs": [],
   "source": [
    "import os\n",
    "import pymongo\n",
    "import pandas as pd\n",
    "from datetime import datetime as dt\n",
    "from src.features.dedup_model import load_results\n",
    "from src.data.utils import load_json_as_df, create_dir\n",
    "from src.data.image_utils import download_images_from_group\n",
    "import src.models.nima_model as nima \n",
    "\n"
   ]
  },
  {
   "cell_type": "code",
   "execution_count": 12,
   "id": "24c2b1a3",
   "metadata": {},
   "outputs": [],
   "source": [
    "from src.constants import (\n",
    "    RAW_DIR_PATH,\n",
    "    INTERIM_DIR_PATH,\n",
    "    PROCESSED_DIR_PATH\n",
    ")"
   ]
  },
  {
   "cell_type": "code",
   "execution_count": 2,
   "id": "99d1c6d7-5b67-47f1-a9a8-ff8357d65601",
   "metadata": {},
   "outputs": [
    {
     "data": {
      "text/plain": [
       "'mlops-project'"
      ]
     },
     "execution_count": 2,
     "metadata": {},
     "output_type": "execute_result"
    }
   ],
   "source": [
    "DB_USERNAME = os.getenv(\"MONGO_USERNAME\")\n",
    "DB_PASSWORD = os.getenv(\"MONGO_PASSWORD\")\n",
    "DB_URL = os.getenv(\"MONGO_URL\")\n",
    "DB_NAME = os.getenv(\"MONGO_DB\")\n",
    "DB_NAME"
   ]
  },
  {
   "cell_type": "code",
   "execution_count": 6,
   "id": "168866bb-8f58-4581-b0d4-a6a095531169",
   "metadata": {},
   "outputs": [
    {
     "data": {
      "text/plain": [
       "MongoClient(host=['ac-52gsxzj-shard-00-02.yi2z9ch.mongodb.net:27017', 'ac-52gsxzj-shard-00-00.yi2z9ch.mongodb.net:27017', 'ac-52gsxzj-shard-00-01.yi2z9ch.mongodb.net:27017'], document_class=dict, tz_aware=False, connect=True, retrywrites=True, w='majority', authsource='admin', replicaset='atlas-12itgl-shard-0', tls=True)"
      ]
     },
     "execution_count": 6,
     "metadata": {},
     "output_type": "execute_result"
    }
   ],
   "source": [
    "client = pymongo.MongoClient(\n",
    "    f\"mongodb+srv://{DB_USERNAME}:{DB_PASSWORD}@{DB_URL}/?retryWrites=true&w=majority\"\n",
    ")\n",
    "client"
   ]
  },
  {
   "cell_type": "code",
   "execution_count": 7,
   "id": "3f407d5b-b38d-482c-a315-90c26a299d00",
   "metadata": {},
   "outputs": [
    {
     "data": {
      "text/plain": [
       "Collection(Database(MongoClient(host=['ac-52gsxzj-shard-00-02.yi2z9ch.mongodb.net:27017', 'ac-52gsxzj-shard-00-00.yi2z9ch.mongodb.net:27017', 'ac-52gsxzj-shard-00-01.yi2z9ch.mongodb.net:27017'], document_class=dict, tz_aware=False, connect=True, retrywrites=True, w='majority', authsource='admin', replicaset='atlas-12itgl-shard-0', tls=True), 'mlops-project'), 'head')"
      ]
     },
     "execution_count": 7,
     "metadata": {},
     "output_type": "execute_result"
    }
   ],
   "source": [
    "db = client[DB_NAME]\n",
    "db.head"
   ]
  },
  {
   "cell_type": "code",
   "execution_count": 8,
   "id": "12557942",
   "metadata": {},
   "outputs": [
    {
     "data": {
      "text/plain": [
       "['duplicated_images_model_results']"
      ]
     },
     "execution_count": 8,
     "metadata": {},
     "output_type": "execute_result"
    }
   ],
   "source": [
    "db.list_collection_names()\n"
   ]
  },
  {
   "cell_type": "code",
   "execution_count": 9,
   "id": "dabf7a35",
   "metadata": {},
   "outputs": [],
   "source": [
    "collectionDuplicated = db['duplicated_images_model_results']\n",
    "df = pd.DataFrame(collectionDuplicated.find())"
   ]
  },
  {
   "cell_type": "code",
   "execution_count": 31,
   "id": "12af7857",
   "metadata": {},
   "outputs": [
    {
     "data": {
      "text/html": [
       "<div>\n",
       "<style scoped>\n",
       "    .dataframe tbody tr th:only-of-type {\n",
       "        vertical-align: middle;\n",
       "    }\n",
       "\n",
       "    .dataframe tbody tr th {\n",
       "        vertical-align: top;\n",
       "    }\n",
       "\n",
       "    .dataframe thead th {\n",
       "        text-align: right;\n",
       "    }\n",
       "</style>\n",
       "<table border=\"1\" class=\"dataframe\">\n",
       "  <thead>\n",
       "    <tr style=\"text-align: right;\">\n",
       "      <th></th>\n",
       "      <th>_id</th>\n",
       "      <th>date</th>\n",
       "      <th>group_id</th>\n",
       "      <th>base_image_id</th>\n",
       "      <th>duplicated_image_id</th>\n",
       "      <th>probability</th>\n",
       "    </tr>\n",
       "  </thead>\n",
       "  <tbody>\n",
       "    <tr>\n",
       "      <th>0</th>\n",
       "      <td>63c530068113af969cb993ec</td>\n",
       "      <td>2023-01-16 11:07:50.773</td>\n",
       "      <td>102292696432481</td>\n",
       "      <td>1631</td>\n",
       "      <td>1703</td>\n",
       "      <td>0.916148</td>\n",
       "    </tr>\n",
       "    <tr>\n",
       "      <th>1</th>\n",
       "      <td>63c530068113af969cb993ed</td>\n",
       "      <td>2023-01-16 11:07:50.774</td>\n",
       "      <td>102292696432481</td>\n",
       "      <td>1631</td>\n",
       "      <td>1710</td>\n",
       "      <td>0.868106</td>\n",
       "    </tr>\n",
       "    <tr>\n",
       "      <th>2</th>\n",
       "      <td>63c530068113af969cb993ee</td>\n",
       "      <td>2023-01-16 11:07:50.774</td>\n",
       "      <td>102292696432481</td>\n",
       "      <td>1631</td>\n",
       "      <td>1741</td>\n",
       "      <td>0.868106</td>\n",
       "    </tr>\n",
       "    <tr>\n",
       "      <th>3</th>\n",
       "      <td>63c530068113af969cb993ef</td>\n",
       "      <td>2023-01-16 11:07:50.774</td>\n",
       "      <td>102292696432481</td>\n",
       "      <td>1631</td>\n",
       "      <td>1744</td>\n",
       "      <td>0.868106</td>\n",
       "    </tr>\n",
       "    <tr>\n",
       "      <th>4</th>\n",
       "      <td>63c530068113af969cb993f0</td>\n",
       "      <td>2023-01-16 11:07:50.774</td>\n",
       "      <td>102292696432481</td>\n",
       "      <td>1631</td>\n",
       "      <td>1760</td>\n",
       "      <td>1.000000</td>\n",
       "    </tr>\n",
       "  </tbody>\n",
       "</table>\n",
       "</div>"
      ],
      "text/plain": [
       "                        _id                    date         group_id  \\\n",
       "0  63c530068113af969cb993ec 2023-01-16 11:07:50.773  102292696432481   \n",
       "1  63c530068113af969cb993ed 2023-01-16 11:07:50.774  102292696432481   \n",
       "2  63c530068113af969cb993ee 2023-01-16 11:07:50.774  102292696432481   \n",
       "3  63c530068113af969cb993ef 2023-01-16 11:07:50.774  102292696432481   \n",
       "4  63c530068113af969cb993f0 2023-01-16 11:07:50.774  102292696432481   \n",
       "\n",
       "  base_image_id duplicated_image_id  probability  \n",
       "0          1631                1703     0.916148  \n",
       "1          1631                1710     0.868106  \n",
       "2          1631                1741     0.868106  \n",
       "3          1631                1744     0.868106  \n",
       "4          1631                1760     1.000000  "
      ]
     },
     "execution_count": 31,
     "metadata": {},
     "output_type": "execute_result"
    }
   ],
   "source": [
    "df.head()"
   ]
  },
  {
   "cell_type": "code",
   "execution_count": 35,
   "id": "8ca36677",
   "metadata": {},
   "outputs": [
    {
     "data": {
      "text/html": [
       "<div>\n",
       "<style scoped>\n",
       "    .dataframe tbody tr th:only-of-type {\n",
       "        vertical-align: middle;\n",
       "    }\n",
       "\n",
       "    .dataframe tbody tr th {\n",
       "        vertical-align: top;\n",
       "    }\n",
       "\n",
       "    .dataframe thead th {\n",
       "        text-align: right;\n",
       "    }\n",
       "</style>\n",
       "<table border=\"1\" class=\"dataframe\">\n",
       "  <thead>\n",
       "    <tr style=\"text-align: right;\">\n",
       "      <th></th>\n",
       "      <th>_id</th>\n",
       "      <th>date</th>\n",
       "      <th>group_id</th>\n",
       "      <th>base_image_id</th>\n",
       "      <th>duplicated_image_id</th>\n",
       "      <th>probability</th>\n",
       "    </tr>\n",
       "  </thead>\n",
       "  <tbody>\n",
       "    <tr>\n",
       "      <th>16876</th>\n",
       "      <td>63c5303d8113af969cb9d5d8</td>\n",
       "      <td>2023-01-16 11:08:45.547</td>\n",
       "      <td>2224086878288</td>\n",
       "      <td>1</td>\n",
       "      <td>108</td>\n",
       "      <td>0.895422</td>\n",
       "    </tr>\n",
       "    <tr>\n",
       "      <th>16877</th>\n",
       "      <td>63c5303d8113af969cb9d5d9</td>\n",
       "      <td>2023-01-16 11:08:45.547</td>\n",
       "      <td>2224086878288</td>\n",
       "      <td>1</td>\n",
       "      <td>119</td>\n",
       "      <td>1.000000</td>\n",
       "    </tr>\n",
       "    <tr>\n",
       "      <th>16878</th>\n",
       "      <td>63c5303d8113af969cb9d5da</td>\n",
       "      <td>2023-01-16 11:08:45.547</td>\n",
       "      <td>2224086878288</td>\n",
       "      <td>1</td>\n",
       "      <td>127</td>\n",
       "      <td>1.000000</td>\n",
       "    </tr>\n",
       "    <tr>\n",
       "      <th>16879</th>\n",
       "      <td>63c5303d8113af969cb9d5db</td>\n",
       "      <td>2023-01-16 11:08:45.547</td>\n",
       "      <td>2224086878288</td>\n",
       "      <td>1</td>\n",
       "      <td>145</td>\n",
       "      <td>0.895422</td>\n",
       "    </tr>\n",
       "    <tr>\n",
       "      <th>16880</th>\n",
       "      <td>63c5303d8113af969cb9d5dc</td>\n",
       "      <td>2023-01-16 11:08:45.547</td>\n",
       "      <td>2224086878288</td>\n",
       "      <td>1</td>\n",
       "      <td>176</td>\n",
       "      <td>0.895422</td>\n",
       "    </tr>\n",
       "    <tr>\n",
       "      <th>...</th>\n",
       "      <td>...</td>\n",
       "      <td>...</td>\n",
       "      <td>...</td>\n",
       "      <td>...</td>\n",
       "      <td>...</td>\n",
       "      <td>...</td>\n",
       "    </tr>\n",
       "    <tr>\n",
       "      <th>18661</th>\n",
       "      <td>63c5303d8113af969cb9dcd1</td>\n",
       "      <td>2023-01-16 11:08:45.548</td>\n",
       "      <td>2224086878288</td>\n",
       "      <td>98</td>\n",
       "      <td>6</td>\n",
       "      <td>1.000000</td>\n",
       "    </tr>\n",
       "    <tr>\n",
       "      <th>18662</th>\n",
       "      <td>63c5303d8113af969cb9dcd2</td>\n",
       "      <td>2023-01-16 11:08:45.548</td>\n",
       "      <td>2224086878288</td>\n",
       "      <td>99</td>\n",
       "      <td>105</td>\n",
       "      <td>1.000000</td>\n",
       "    </tr>\n",
       "    <tr>\n",
       "      <th>18663</th>\n",
       "      <td>63c5303d8113af969cb9dcd3</td>\n",
       "      <td>2023-01-16 11:08:45.548</td>\n",
       "      <td>2224086878288</td>\n",
       "      <td>99</td>\n",
       "      <td>110</td>\n",
       "      <td>1.000000</td>\n",
       "    </tr>\n",
       "    <tr>\n",
       "      <th>18664</th>\n",
       "      <td>63c5303d8113af969cb9dcd4</td>\n",
       "      <td>2023-01-16 11:08:45.548</td>\n",
       "      <td>2224086878288</td>\n",
       "      <td>99</td>\n",
       "      <td>33</td>\n",
       "      <td>1.000000</td>\n",
       "    </tr>\n",
       "    <tr>\n",
       "      <th>18665</th>\n",
       "      <td>63c5303d8113af969cb9dcd5</td>\n",
       "      <td>2023-01-16 11:08:45.548</td>\n",
       "      <td>2224086878288</td>\n",
       "      <td>99</td>\n",
       "      <td>39</td>\n",
       "      <td>1.000000</td>\n",
       "    </tr>\n",
       "  </tbody>\n",
       "</table>\n",
       "<p>1790 rows × 6 columns</p>\n",
       "</div>"
      ],
      "text/plain": [
       "                            _id                    date       group_id  \\\n",
       "16876  63c5303d8113af969cb9d5d8 2023-01-16 11:08:45.547  2224086878288   \n",
       "16877  63c5303d8113af969cb9d5d9 2023-01-16 11:08:45.547  2224086878288   \n",
       "16878  63c5303d8113af969cb9d5da 2023-01-16 11:08:45.547  2224086878288   \n",
       "16879  63c5303d8113af969cb9d5db 2023-01-16 11:08:45.547  2224086878288   \n",
       "16880  63c5303d8113af969cb9d5dc 2023-01-16 11:08:45.547  2224086878288   \n",
       "...                         ...                     ...            ...   \n",
       "18661  63c5303d8113af969cb9dcd1 2023-01-16 11:08:45.548  2224086878288   \n",
       "18662  63c5303d8113af969cb9dcd2 2023-01-16 11:08:45.548  2224086878288   \n",
       "18663  63c5303d8113af969cb9dcd3 2023-01-16 11:08:45.548  2224086878288   \n",
       "18664  63c5303d8113af969cb9dcd4 2023-01-16 11:08:45.548  2224086878288   \n",
       "18665  63c5303d8113af969cb9dcd5 2023-01-16 11:08:45.548  2224086878288   \n",
       "\n",
       "      base_image_id duplicated_image_id  probability  \n",
       "16876             1                 108     0.895422  \n",
       "16877             1                 119     1.000000  \n",
       "16878             1                 127     1.000000  \n",
       "16879             1                 145     0.895422  \n",
       "16880             1                 176     0.895422  \n",
       "...             ...                 ...          ...  \n",
       "18661            98                   6     1.000000  \n",
       "18662            99                 105     1.000000  \n",
       "18663            99                 110     1.000000  \n",
       "18664            99                  33     1.000000  \n",
       "18665            99                  39     1.000000  \n",
       "\n",
       "[1790 rows x 6 columns]"
      ]
     },
     "execution_count": 35,
     "metadata": {},
     "output_type": "execute_result"
    }
   ],
   "source": [
    "df1 = df[df['group_id']=='2224086878288']\n",
    "df1"
   ]
  },
  {
   "cell_type": "code",
   "execution_count": 13,
   "id": "53f667b1",
   "metadata": {},
   "outputs": [],
   "source": [
    "images_json_file_name = \"images.json\"\n",
    "images_json_file_path = os.path.join(RAW_DIR_PATH, images_json_file_name)"
   ]
  },
  {
   "cell_type": "code",
   "execution_count": 14,
   "id": "7473d374",
   "metadata": {},
   "outputs": [
    {
     "data": {
      "text/html": [
       "<div>\n",
       "<style scoped>\n",
       "    .dataframe tbody tr th:only-of-type {\n",
       "        vertical-align: middle;\n",
       "    }\n",
       "\n",
       "    .dataframe tbody tr th {\n",
       "        vertical-align: top;\n",
       "    }\n",
       "\n",
       "    .dataframe thead th {\n",
       "        text-align: right;\n",
       "    }\n",
       "</style>\n",
       "<table border=\"1\" class=\"dataframe\">\n",
       "  <thead>\n",
       "    <tr style=\"text-align: right;\">\n",
       "      <th></th>\n",
       "      <th>group_id</th>\n",
       "      <th>image_url</th>\n",
       "    </tr>\n",
       "    <tr>\n",
       "      <th>image_id</th>\n",
       "      <th></th>\n",
       "      <th></th>\n",
       "    </tr>\n",
       "  </thead>\n",
       "  <tbody>\n",
       "    <tr>\n",
       "      <th>1</th>\n",
       "      <td>2224086878288</td>\n",
       "      <td>https://i.travelapi.com/hotels/57000000/569800...</td>\n",
       "    </tr>\n",
       "    <tr>\n",
       "      <th>2</th>\n",
       "      <td>2224086878288</td>\n",
       "      <td>https://i.travelapi.com/hotels/57000000/569800...</td>\n",
       "    </tr>\n",
       "    <tr>\n",
       "      <th>3</th>\n",
       "      <td>2224086878288</td>\n",
       "      <td>https://i.travelapi.com/hotels/57000000/569800...</td>\n",
       "    </tr>\n",
       "    <tr>\n",
       "      <th>4</th>\n",
       "      <td>2224086878288</td>\n",
       "      <td>https://i.travelapi.com/hotels/57000000/569800...</td>\n",
       "    </tr>\n",
       "    <tr>\n",
       "      <th>5</th>\n",
       "      <td>2224086878288</td>\n",
       "      <td>https://i.travelapi.com/hotels/57000000/569800...</td>\n",
       "    </tr>\n",
       "  </tbody>\n",
       "</table>\n",
       "</div>"
      ],
      "text/plain": [
       "               group_id                                          image_url\n",
       "image_id                                                                  \n",
       "1         2224086878288  https://i.travelapi.com/hotels/57000000/569800...\n",
       "2         2224086878288  https://i.travelapi.com/hotels/57000000/569800...\n",
       "3         2224086878288  https://i.travelapi.com/hotels/57000000/569800...\n",
       "4         2224086878288  https://i.travelapi.com/hotels/57000000/569800...\n",
       "5         2224086878288  https://i.travelapi.com/hotels/57000000/569800..."
      ]
     },
     "execution_count": 14,
     "metadata": {},
     "output_type": "execute_result"
    }
   ],
   "source": [
    "images_df = load_json_as_df(images_json_file_path, index_col=\"image_id\")\n",
    "images_df.head()"
   ]
  },
  {
   "cell_type": "code",
   "execution_count": 22,
   "id": "1ec71233",
   "metadata": {},
   "outputs": [],
   "source": [
    "images_dir_path = os.path.join(INTERIM_DIR_PATH, \"images\")\n",
    "create_dir(images_dir_path)"
   ]
  },
  {
   "cell_type": "code",
   "execution_count": 23,
   "id": "3a463107",
   "metadata": {},
   "outputs": [
    {
     "name": "stderr",
     "output_type": "stream",
     "text": [
      "365it [00:00, 5663.34it/s]\n",
      "215it [00:00, 4188.36it/s]\n",
      "25it [00:00, 822.92it/s]\n",
      "125it [00:00, 3162.27it/s]\n",
      "132it [00:00, 3904.18it/s]\n",
      "40it [00:00, 2230.24it/s]\n",
      "5it [00:00, 499.56it/s]\n",
      "230it [00:00, 5108.07it/s]\n",
      "210it [00:00, 2684.31it/s]\n",
      "330it [00:00, 5506.99it/s]\n",
      "225it [00:00, 5278.45it/s]\n",
      "170it [00:00, 3937.03it/s]\n",
      "345it [00:00, 6691.12it/s]\n",
      "120it [00:00, 2877.36it/s]\n"
     ]
    }
   ],
   "source": [
    "for group_id, df_group in df.groupby('group_id'):\n",
    "\n",
    "    lista = df_group['base_image_id'].to_list() +df_group['duplicated_image_id'].to_list()\n",
    "    mylist = list(dict.fromkeys(lista))\n",
    "\n",
    "    df_images_group= pd.DataFrame (mylist, columns = ['image_id'])\n",
    "    df_images_group['group_id'] = group_id\n",
    "\n",
    "    merged_group = pd.merge(left=df_images_group, right=images_df, left_on=['group_id','image_id'], right_on=['group_id','image_id'])\n",
    "\n",
    "    download_images_from_group(images_df, group_id, (images_dir_path ))\n",
    "    \n",
    "\n"
   ]
  },
  {
   "cell_type": "code",
   "execution_count": 24,
   "id": "34dad4df-c4fd-4602-be29-234793c31a10",
   "metadata": {},
   "outputs": [],
   "source": [
    "model= \"MobileNet\"\n",
    "src = os.path.join('/app','src')\n",
    "features = os.path.join(src,'features')\n",
    "nima_model_folder = os.path.join(features,'nima_model')\n",
    "weights = os.path.join(nima_model_folder,'weights_mobilenet_aesthetic_0.07.hdf5')\n",
    "\n"
   ]
  },
  {
   "cell_type": "code",
   "execution_count": 25,
   "id": "746137a7",
   "metadata": {},
   "outputs": [
    {
     "data": {
      "text/plain": [
       "'/app/data/interim/images'"
      ]
     },
     "execution_count": 25,
     "metadata": {},
     "output_type": "execute_result"
    }
   ],
   "source": [
    "images_dir_path"
   ]
  },
  {
   "cell_type": "code",
   "execution_count": 37,
   "id": "b965658f",
   "metadata": {},
   "outputs": [
    {
     "name": "stderr",
     "output_type": "stream",
     "text": [
      "/app/src/models/nima_model/__init__.py:27: UserWarning: `Model.predict_generator` is deprecated and will be removed in a future version. Please use `Model.predict`, which supports generators.\n",
      "  return model.predict_generator(data_generator, workers=8, use_multiprocessing=True, verbose=1)\n",
      "/usr/local/lib/python3.10/site-packages/keras/engine/data_adapter.py:925: RuntimeWarning: overflow encountered in cast\n",
      "  return np.array(t, dtype=backend.floatx())\n"
     ]
    },
    {
     "ename": "KeyboardInterrupt",
     "evalue": "",
     "output_type": "error",
     "traceback": [
      "\u001b[0;31m---------------------------------------------------------------------------\u001b[0m",
      "\u001b[0;31mKeyboardInterrupt\u001b[0m                         Traceback (most recent call last)",
      "Cell \u001b[0;32mIn[37], line 3\u001b[0m\n\u001b[1;32m      1\u001b[0m \u001b[39mfor\u001b[39;00m group_id, df_group \u001b[39min\u001b[39;00m df\u001b[39m.\u001b[39mgroupby(\u001b[39m'\u001b[39m\u001b[39mgroup_id\u001b[39m\u001b[39m'\u001b[39m):\n\u001b[1;32m      2\u001b[0m     image_folder \u001b[39m=\u001b[39m os\u001b[39m.\u001b[39mpath\u001b[39m.\u001b[39mjoin(images_dir_path,group_id)\n\u001b[0;32m----> 3\u001b[0m     nima\u001b[39m.\u001b[39;49mpredictImages(model,weights,image_folder)\n",
      "File \u001b[0;32m/app/src/models/nima_model/__init__.py:48\u001b[0m, in \u001b[0;36mpredictImages\u001b[0;34m(base_model_name, weights_file, image_source, img_format)\u001b[0m\n\u001b[1;32m     44\u001b[0m data_generator \u001b[39m=\u001b[39m TestDataGenerator(samples, image_dir, \u001b[39m64\u001b[39m, \u001b[39m10\u001b[39m, nima\u001b[39m.\u001b[39mpreprocessing_function(),\n\u001b[1;32m     45\u001b[0m                                 img_format\u001b[39m=\u001b[39mimg_format)\n\u001b[1;32m     47\u001b[0m \u001b[39m# get predictions\u001b[39;00m\n\u001b[0;32m---> 48\u001b[0m predictions \u001b[39m=\u001b[39m predict(nima\u001b[39m.\u001b[39;49mnima_model, data_generator)\n\u001b[1;32m     50\u001b[0m \u001b[39m# calc mean scores and add to samples\u001b[39;00m\n\u001b[1;32m     51\u001b[0m \u001b[39mfor\u001b[39;00m i, sample \u001b[39min\u001b[39;00m \u001b[39menumerate\u001b[39m(samples):\n",
      "File \u001b[0;32m/app/src/models/nima_model/__init__.py:27\u001b[0m, in \u001b[0;36mpredict\u001b[0;34m(model, data_generator)\u001b[0m\n\u001b[1;32m     26\u001b[0m \u001b[39mdef\u001b[39;00m \u001b[39mpredict\u001b[39m(model, data_generator):\n\u001b[0;32m---> 27\u001b[0m      \u001b[39mreturn\u001b[39;00m model\u001b[39m.\u001b[39;49mpredict_generator(data_generator, workers\u001b[39m=\u001b[39;49m\u001b[39m8\u001b[39;49m, use_multiprocessing\u001b[39m=\u001b[39;49m\u001b[39mTrue\u001b[39;49;00m, verbose\u001b[39m=\u001b[39;49m\u001b[39m1\u001b[39;49m)\n",
      "File \u001b[0;32m/usr/local/lib/python3.10/site-packages/keras/engine/training.py:2679\u001b[0m, in \u001b[0;36mModel.predict_generator\u001b[0;34m(self, generator, steps, callbacks, max_queue_size, workers, use_multiprocessing, verbose)\u001b[0m\n\u001b[1;32m   2667\u001b[0m \u001b[39m\u001b[39m\u001b[39m\"\"\"Generates predictions for the input samples from a data generator.\u001b[39;00m\n\u001b[1;32m   2668\u001b[0m \n\u001b[1;32m   2669\u001b[0m \u001b[39mDEPRECATED:\u001b[39;00m\n\u001b[1;32m   2670\u001b[0m \u001b[39m  `Model.predict` now supports generators, so there is no longer any\u001b[39;00m\n\u001b[1;32m   2671\u001b[0m \u001b[39m  need to use this endpoint.\u001b[39;00m\n\u001b[1;32m   2672\u001b[0m \u001b[39m\"\"\"\u001b[39;00m\n\u001b[1;32m   2673\u001b[0m warnings\u001b[39m.\u001b[39mwarn(\n\u001b[1;32m   2674\u001b[0m     \u001b[39m\"\u001b[39m\u001b[39m`Model.predict_generator` is deprecated and \u001b[39m\u001b[39m\"\u001b[39m\n\u001b[1;32m   2675\u001b[0m     \u001b[39m\"\u001b[39m\u001b[39mwill be removed in a future version. \u001b[39m\u001b[39m\"\u001b[39m\n\u001b[1;32m   2676\u001b[0m     \u001b[39m\"\u001b[39m\u001b[39mPlease use `Model.predict`, which supports generators.\u001b[39m\u001b[39m\"\u001b[39m,\n\u001b[1;32m   2677\u001b[0m     stacklevel\u001b[39m=\u001b[39m\u001b[39m2\u001b[39m,\n\u001b[1;32m   2678\u001b[0m )\n\u001b[0;32m-> 2679\u001b[0m \u001b[39mreturn\u001b[39;00m \u001b[39mself\u001b[39;49m\u001b[39m.\u001b[39;49mpredict(\n\u001b[1;32m   2680\u001b[0m     generator,\n\u001b[1;32m   2681\u001b[0m     steps\u001b[39m=\u001b[39;49msteps,\n\u001b[1;32m   2682\u001b[0m     max_queue_size\u001b[39m=\u001b[39;49mmax_queue_size,\n\u001b[1;32m   2683\u001b[0m     workers\u001b[39m=\u001b[39;49mworkers,\n\u001b[1;32m   2684\u001b[0m     use_multiprocessing\u001b[39m=\u001b[39;49muse_multiprocessing,\n\u001b[1;32m   2685\u001b[0m     verbose\u001b[39m=\u001b[39;49mverbose,\n\u001b[1;32m   2686\u001b[0m     callbacks\u001b[39m=\u001b[39;49mcallbacks,\n\u001b[1;32m   2687\u001b[0m )\n",
      "File \u001b[0;32m/usr/local/lib/python3.10/site-packages/keras/utils/traceback_utils.py:65\u001b[0m, in \u001b[0;36mfilter_traceback.<locals>.error_handler\u001b[0;34m(*args, **kwargs)\u001b[0m\n\u001b[1;32m     63\u001b[0m filtered_tb \u001b[39m=\u001b[39m \u001b[39mNone\u001b[39;00m\n\u001b[1;32m     64\u001b[0m \u001b[39mtry\u001b[39;00m:\n\u001b[0;32m---> 65\u001b[0m     \u001b[39mreturn\u001b[39;00m fn(\u001b[39m*\u001b[39;49margs, \u001b[39m*\u001b[39;49m\u001b[39m*\u001b[39;49mkwargs)\n\u001b[1;32m     66\u001b[0m \u001b[39mexcept\u001b[39;00m \u001b[39mException\u001b[39;00m \u001b[39mas\u001b[39;00m e:\n\u001b[1;32m     67\u001b[0m     filtered_tb \u001b[39m=\u001b[39m _process_traceback_frames(e\u001b[39m.\u001b[39m__traceback__)\n",
      "File \u001b[0;32m/usr/local/lib/python3.10/site-packages/keras/engine/training.py:2350\u001b[0m, in \u001b[0;36mModel.predict\u001b[0;34m(self, x, batch_size, verbose, steps, callbacks, max_queue_size, workers, use_multiprocessing)\u001b[0m\n\u001b[1;32m   2348\u001b[0m \u001b[39mfor\u001b[39;00m step \u001b[39min\u001b[39;00m data_handler\u001b[39m.\u001b[39msteps():\n\u001b[1;32m   2349\u001b[0m     callbacks\u001b[39m.\u001b[39mon_predict_batch_begin(step)\n\u001b[0;32m-> 2350\u001b[0m     tmp_batch_outputs \u001b[39m=\u001b[39m \u001b[39mself\u001b[39;49m\u001b[39m.\u001b[39;49mpredict_function(iterator)\n\u001b[1;32m   2351\u001b[0m     \u001b[39mif\u001b[39;00m data_handler\u001b[39m.\u001b[39mshould_sync:\n\u001b[1;32m   2352\u001b[0m         context\u001b[39m.\u001b[39masync_wait()\n",
      "File \u001b[0;32m/usr/local/lib/python3.10/site-packages/tensorflow/python/util/traceback_utils.py:150\u001b[0m, in \u001b[0;36mfilter_traceback.<locals>.error_handler\u001b[0;34m(*args, **kwargs)\u001b[0m\n\u001b[1;32m    148\u001b[0m filtered_tb \u001b[39m=\u001b[39m \u001b[39mNone\u001b[39;00m\n\u001b[1;32m    149\u001b[0m \u001b[39mtry\u001b[39;00m:\n\u001b[0;32m--> 150\u001b[0m   \u001b[39mreturn\u001b[39;00m fn(\u001b[39m*\u001b[39;49margs, \u001b[39m*\u001b[39;49m\u001b[39m*\u001b[39;49mkwargs)\n\u001b[1;32m    151\u001b[0m \u001b[39mexcept\u001b[39;00m \u001b[39mException\u001b[39;00m \u001b[39mas\u001b[39;00m e:\n\u001b[1;32m    152\u001b[0m   filtered_tb \u001b[39m=\u001b[39m _process_traceback_frames(e\u001b[39m.\u001b[39m__traceback__)\n",
      "File \u001b[0;32m/usr/local/lib/python3.10/site-packages/tensorflow/python/eager/polymorphic_function/polymorphic_function.py:880\u001b[0m, in \u001b[0;36mFunction.__call__\u001b[0;34m(self, *args, **kwds)\u001b[0m\n\u001b[1;32m    877\u001b[0m compiler \u001b[39m=\u001b[39m \u001b[39m\"\u001b[39m\u001b[39mxla\u001b[39m\u001b[39m\"\u001b[39m \u001b[39mif\u001b[39;00m \u001b[39mself\u001b[39m\u001b[39m.\u001b[39m_jit_compile \u001b[39melse\u001b[39;00m \u001b[39m\"\u001b[39m\u001b[39mnonXla\u001b[39m\u001b[39m\"\u001b[39m\n\u001b[1;32m    879\u001b[0m \u001b[39mwith\u001b[39;00m OptionalXlaContext(\u001b[39mself\u001b[39m\u001b[39m.\u001b[39m_jit_compile):\n\u001b[0;32m--> 880\u001b[0m   result \u001b[39m=\u001b[39m \u001b[39mself\u001b[39;49m\u001b[39m.\u001b[39;49m_call(\u001b[39m*\u001b[39;49margs, \u001b[39m*\u001b[39;49m\u001b[39m*\u001b[39;49mkwds)\n\u001b[1;32m    882\u001b[0m new_tracing_count \u001b[39m=\u001b[39m \u001b[39mself\u001b[39m\u001b[39m.\u001b[39mexperimental_get_tracing_count()\n\u001b[1;32m    883\u001b[0m without_tracing \u001b[39m=\u001b[39m (tracing_count \u001b[39m==\u001b[39m new_tracing_count)\n",
      "File \u001b[0;32m/usr/local/lib/python3.10/site-packages/tensorflow/python/eager/polymorphic_function/polymorphic_function.py:952\u001b[0m, in \u001b[0;36mFunction._call\u001b[0;34m(self, *args, **kwds)\u001b[0m\n\u001b[1;32m    947\u001b[0m   _, _, filtered_flat_args \u001b[39m=\u001b[39m (\n\u001b[1;32m    948\u001b[0m       \u001b[39mself\u001b[39m\u001b[39m.\u001b[39m_variable_creation_fn\u001b[39m.\u001b[39m_function_spec  \u001b[39m# pylint: disable=protected-access\u001b[39;00m\n\u001b[1;32m    949\u001b[0m       \u001b[39m.\u001b[39mcanonicalize_function_inputs(\n\u001b[1;32m    950\u001b[0m           args, kwds))\n\u001b[1;32m    951\u001b[0m   \u001b[39m# If we did not create any variables the trace we have is good enough.\u001b[39;00m\n\u001b[0;32m--> 952\u001b[0m   \u001b[39mreturn\u001b[39;00m \u001b[39mself\u001b[39;49m\u001b[39m.\u001b[39;49m_concrete_variable_creation_fn\u001b[39m.\u001b[39;49m_call_flat(   \u001b[39m# pylint: disable=protected-access\u001b[39;49;00m\n\u001b[1;32m    953\u001b[0m       filtered_flat_args,\n\u001b[1;32m    954\u001b[0m       \u001b[39mself\u001b[39;49m\u001b[39m.\u001b[39;49m_concrete_variable_creation_fn\u001b[39m.\u001b[39;49mcaptured_inputs)\n\u001b[1;32m    956\u001b[0m \u001b[39mdef\u001b[39;00m \u001b[39mfn_with_cond\u001b[39m(inner_args, inner_kwds, inner_filtered_flat_args):\n\u001b[1;32m    957\u001b[0m \u001b[39m  \u001b[39m\u001b[39m\"\"\"Conditionally runs initialization if it's needed.\"\"\"\u001b[39;00m\n",
      "File \u001b[0;32m/usr/local/lib/python3.10/site-packages/tensorflow/python/eager/polymorphic_function/monomorphic_function.py:1745\u001b[0m, in \u001b[0;36mConcreteFunction._call_flat\u001b[0;34m(self, args, captured_inputs, cancellation_manager)\u001b[0m\n\u001b[1;32m   1741\u001b[0m possible_gradient_type \u001b[39m=\u001b[39m gradients_util\u001b[39m.\u001b[39mPossibleTapeGradientTypes(args)\n\u001b[1;32m   1742\u001b[0m \u001b[39mif\u001b[39;00m (possible_gradient_type \u001b[39m==\u001b[39m gradients_util\u001b[39m.\u001b[39mPOSSIBLE_GRADIENT_TYPES_NONE\n\u001b[1;32m   1743\u001b[0m     \u001b[39mand\u001b[39;00m executing_eagerly):\n\u001b[1;32m   1744\u001b[0m   \u001b[39m# No tape is watching; skip to running the function.\u001b[39;00m\n\u001b[0;32m-> 1745\u001b[0m   \u001b[39mreturn\u001b[39;00m \u001b[39mself\u001b[39m\u001b[39m.\u001b[39m_build_call_outputs(\u001b[39mself\u001b[39;49m\u001b[39m.\u001b[39;49m_inference_function\u001b[39m.\u001b[39;49mcall(\n\u001b[1;32m   1746\u001b[0m       ctx, args, cancellation_manager\u001b[39m=\u001b[39;49mcancellation_manager))\n\u001b[1;32m   1747\u001b[0m forward_backward \u001b[39m=\u001b[39m \u001b[39mself\u001b[39m\u001b[39m.\u001b[39m_select_forward_and_backward_functions(\n\u001b[1;32m   1748\u001b[0m     args,\n\u001b[1;32m   1749\u001b[0m     possible_gradient_type,\n\u001b[1;32m   1750\u001b[0m     executing_eagerly)\n\u001b[1;32m   1751\u001b[0m forward_function, args_with_tangents \u001b[39m=\u001b[39m forward_backward\u001b[39m.\u001b[39mforward()\n",
      "File \u001b[0;32m/usr/local/lib/python3.10/site-packages/tensorflow/python/eager/polymorphic_function/monomorphic_function.py:378\u001b[0m, in \u001b[0;36m_EagerDefinedFunction.call\u001b[0;34m(self, ctx, args, cancellation_manager)\u001b[0m\n\u001b[1;32m    376\u001b[0m \u001b[39mwith\u001b[39;00m _InterpolateFunctionError(\u001b[39mself\u001b[39m):\n\u001b[1;32m    377\u001b[0m   \u001b[39mif\u001b[39;00m cancellation_manager \u001b[39mis\u001b[39;00m \u001b[39mNone\u001b[39;00m:\n\u001b[0;32m--> 378\u001b[0m     outputs \u001b[39m=\u001b[39m execute\u001b[39m.\u001b[39;49mexecute(\n\u001b[1;32m    379\u001b[0m         \u001b[39mstr\u001b[39;49m(\u001b[39mself\u001b[39;49m\u001b[39m.\u001b[39;49msignature\u001b[39m.\u001b[39;49mname),\n\u001b[1;32m    380\u001b[0m         num_outputs\u001b[39m=\u001b[39;49m\u001b[39mself\u001b[39;49m\u001b[39m.\u001b[39;49m_num_outputs,\n\u001b[1;32m    381\u001b[0m         inputs\u001b[39m=\u001b[39;49margs,\n\u001b[1;32m    382\u001b[0m         attrs\u001b[39m=\u001b[39;49mattrs,\n\u001b[1;32m    383\u001b[0m         ctx\u001b[39m=\u001b[39;49mctx)\n\u001b[1;32m    384\u001b[0m   \u001b[39melse\u001b[39;00m:\n\u001b[1;32m    385\u001b[0m     outputs \u001b[39m=\u001b[39m execute\u001b[39m.\u001b[39mexecute_with_cancellation(\n\u001b[1;32m    386\u001b[0m         \u001b[39mstr\u001b[39m(\u001b[39mself\u001b[39m\u001b[39m.\u001b[39msignature\u001b[39m.\u001b[39mname),\n\u001b[1;32m    387\u001b[0m         num_outputs\u001b[39m=\u001b[39m\u001b[39mself\u001b[39m\u001b[39m.\u001b[39m_num_outputs,\n\u001b[0;32m   (...)\u001b[0m\n\u001b[1;32m    390\u001b[0m         ctx\u001b[39m=\u001b[39mctx,\n\u001b[1;32m    391\u001b[0m         cancellation_manager\u001b[39m=\u001b[39mcancellation_manager)\n",
      "File \u001b[0;32m/usr/local/lib/python3.10/site-packages/tensorflow/python/eager/execute.py:52\u001b[0m, in \u001b[0;36mquick_execute\u001b[0;34m(op_name, num_outputs, inputs, attrs, ctx, name)\u001b[0m\n\u001b[1;32m     50\u001b[0m \u001b[39mtry\u001b[39;00m:\n\u001b[1;32m     51\u001b[0m   ctx\u001b[39m.\u001b[39mensure_initialized()\n\u001b[0;32m---> 52\u001b[0m   tensors \u001b[39m=\u001b[39m pywrap_tfe\u001b[39m.\u001b[39;49mTFE_Py_Execute(ctx\u001b[39m.\u001b[39;49m_handle, device_name, op_name,\n\u001b[1;32m     53\u001b[0m                                       inputs, attrs, num_outputs)\n\u001b[1;32m     54\u001b[0m \u001b[39mexcept\u001b[39;00m core\u001b[39m.\u001b[39m_NotOkStatusException \u001b[39mas\u001b[39;00m e:\n\u001b[1;32m     55\u001b[0m   \u001b[39mif\u001b[39;00m name \u001b[39mis\u001b[39;00m \u001b[39mnot\u001b[39;00m \u001b[39mNone\u001b[39;00m:\n",
      "\u001b[0;31mKeyboardInterrupt\u001b[0m: "
     ]
    }
   ],
   "source": [
    "for group_id, df_group in df.groupby('group_id'):\n",
    "    image_folder = os.path.join(images_dir_path,group_id)\n",
    "    nima.predictImages(model,weights,image_folder)"
   ]
  },
  {
   "cell_type": "code",
   "execution_count": 14,
   "id": "f438e782",
   "metadata": {},
   "outputs": [
    {
     "data": {
      "text/plain": [
       "pandas.core.frame.DataFrame"
      ]
     },
     "execution_count": 14,
     "metadata": {},
     "output_type": "execute_result"
    }
   ],
   "source": [
    "type(images_df)"
   ]
  },
  {
   "cell_type": "code",
   "execution_count": 15,
   "id": "b6a951db",
   "metadata": {},
   "outputs": [
    {
     "data": {
      "text/plain": [
       "list"
      ]
     },
     "execution_count": 15,
     "metadata": {},
     "output_type": "execute_result"
    }
   ],
   "source": [
    "lista = dfs[0]['base_image_id'].to_list() +dfs[0]['duplicated_image_id'].to_list()\n",
    "\n",
    "type(lista)"
   ]
  },
  {
   "cell_type": "code",
   "execution_count": 17,
   "id": "62d10b1c",
   "metadata": {},
   "outputs": [],
   "source": []
  },
  {
   "cell_type": "code",
   "execution_count": 35,
   "id": "fc3fff13",
   "metadata": {},
   "outputs": [],
   "source": [
    "merged_inner = pd.merge(left=df_images_group, right=images_df, left_on=['group_id','image_id'], right_on=['group_id','image_id'])"
   ]
  },
  {
   "cell_type": "code",
   "execution_count": 39,
   "id": "f9d2a91e",
   "metadata": {},
   "outputs": [
    {
     "data": {
      "text/html": [
       "<div>\n",
       "<style scoped>\n",
       "    .dataframe tbody tr th:only-of-type {\n",
       "        vertical-align: middle;\n",
       "    }\n",
       "\n",
       "    .dataframe tbody tr th {\n",
       "        vertical-align: top;\n",
       "    }\n",
       "\n",
       "    .dataframe thead th {\n",
       "        text-align: right;\n",
       "    }\n",
       "</style>\n",
       "<table border=\"1\" class=\"dataframe\">\n",
       "  <thead>\n",
       "    <tr style=\"text-align: right;\">\n",
       "      <th></th>\n",
       "      <th>image_id</th>\n",
       "      <th>group_id</th>\n",
       "    </tr>\n",
       "  </thead>\n",
       "  <tbody>\n",
       "    <tr>\n",
       "      <th>0</th>\n",
       "      <td>1631</td>\n",
       "      <td>102292696432481</td>\n",
       "    </tr>\n",
       "    <tr>\n",
       "      <th>1</th>\n",
       "      <td>1632</td>\n",
       "      <td>102292696432481</td>\n",
       "    </tr>\n",
       "    <tr>\n",
       "      <th>2</th>\n",
       "      <td>1633</td>\n",
       "      <td>102292696432481</td>\n",
       "    </tr>\n",
       "    <tr>\n",
       "      <th>3</th>\n",
       "      <td>1634</td>\n",
       "      <td>102292696432481</td>\n",
       "    </tr>\n",
       "    <tr>\n",
       "      <th>4</th>\n",
       "      <td>1635</td>\n",
       "      <td>102292696432481</td>\n",
       "    </tr>\n",
       "    <tr>\n",
       "      <th>...</th>\n",
       "      <td>...</td>\n",
       "      <td>...</td>\n",
       "    </tr>\n",
       "    <tr>\n",
       "      <th>360</th>\n",
       "      <td>1959</td>\n",
       "      <td>102292696432481</td>\n",
       "    </tr>\n",
       "    <tr>\n",
       "      <th>361</th>\n",
       "      <td>1993</td>\n",
       "      <td>102292696432481</td>\n",
       "    </tr>\n",
       "    <tr>\n",
       "      <th>362</th>\n",
       "      <td>1927</td>\n",
       "      <td>102292696432481</td>\n",
       "    </tr>\n",
       "    <tr>\n",
       "      <th>363</th>\n",
       "      <td>1961</td>\n",
       "      <td>102292696432481</td>\n",
       "    </tr>\n",
       "    <tr>\n",
       "      <th>364</th>\n",
       "      <td>1969</td>\n",
       "      <td>102292696432481</td>\n",
       "    </tr>\n",
       "  </tbody>\n",
       "</table>\n",
       "<p>365 rows × 2 columns</p>\n",
       "</div>"
      ],
      "text/plain": [
       "    image_id         group_id\n",
       "0       1631  102292696432481\n",
       "1       1632  102292696432481\n",
       "2       1633  102292696432481\n",
       "3       1634  102292696432481\n",
       "4       1635  102292696432481\n",
       "..       ...              ...\n",
       "360     1959  102292696432481\n",
       "361     1993  102292696432481\n",
       "362     1927  102292696432481\n",
       "363     1961  102292696432481\n",
       "364     1969  102292696432481\n",
       "\n",
       "[365 rows x 2 columns]"
      ]
     },
     "execution_count": 39,
     "metadata": {},
     "output_type": "execute_result"
    }
   ],
   "source": [
    "df_images_group\n"
   ]
  },
  {
   "cell_type": "code",
   "execution_count": 26,
   "id": "f5f275f4-a248-4acb-a301-9fec33c42ab4",
   "metadata": {},
   "outputs": [
    {
     "data": {
      "text/plain": [
       "image_id\n",
       "1631    1\n",
       "1632    1\n",
       "1633    1\n",
       "1634    1\n",
       "1635    1\n",
       "       ..\n",
       "1991    1\n",
       "1992    1\n",
       "1993    1\n",
       "1994    1\n",
       "1995    1\n",
       "Length: 365, dtype: int64"
      ]
     },
     "execution_count": 26,
     "metadata": {},
     "output_type": "execute_result"
    }
   ],
   "source": [
    "lista_merged = list(dict.fromkeys(merged_inner['group_id']))\n",
    "lista_merged\n",
    "\n",
    "df2 = merged_inner.pivot_table(index = ['image_id'], aggfunc ='size')\n",
    "df2\n",
    "\n"
   ]
  }
 ],
 "metadata": {
  "kernelspec": {
   "display_name": "Python 3 (ipykernel)",
   "language": "python",
   "name": "python3"
  },
  "language_info": {
   "codemirror_mode": {
    "name": "ipython",
    "version": 3
   },
   "file_extension": ".py",
   "mimetype": "text/x-python",
   "name": "python",
   "nbconvert_exporter": "python",
   "pygments_lexer": "ipython3",
   "version": "3.10.9"
  },
  "vscode": {
   "interpreter": {
    "hash": "71c82ec4cf7267d6d9e90de612978172f33458f593a58eb47529aea761bb6cc0"
   }
  }
 },
 "nbformat": 4,
 "nbformat_minor": 5
}
