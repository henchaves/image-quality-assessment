{
 "cells": [
  {
   "cell_type": "code",
   "execution_count": null,
   "id": "a31ba81a-fb07-4f95-9021-cf64b4eebeb2",
   "metadata": {},
   "outputs": [],
   "source": [
    "import os\n",
    "import json\n",
    "import requests # request img from web\n",
    "import shutil # save img locally\n",
    "from IPython.display import Image\n",
    "import pandas as pd\n",
    "\n",
    "from imagededup.methods import CNN"
   ]
  },
  {
   "cell_type": "code",
   "execution_count": null,
   "id": "00594675",
   "metadata": {},
   "outputs": [],
   "source": [
    "HOME_DIR_PATH = os.path.join(\"/\", \"app\")\n",
    "\n",
    "DATA_DIR_PATH = os.path.join(HOME_DIR_PATH, \"data\")\n",
    "\n",
    "RAW_DIR_PATH = os.path.join(DATA_DIR_PATH, \"raw\")\n",
    "INTERIM_DIR_PATH = os.path.join(DATA_DIR_PATH, \"interim\")\n",
    "PROCESSED_DIR_PATH = os.path.join(DATA_DIR_PATH, \"processed\")"
   ]
  },
  {
   "cell_type": "code",
   "execution_count": null,
   "id": "7c76a8a8",
   "metadata": {},
   "outputs": [],
   "source": [
    "# Load images.json as Python Dictionary\n",
    "images_json_file_name = \"images.json\"\n",
    "\n",
    "with open(os.path.join(RAW_DIR_PATH, images_json_file_name), \"rb\") as f:\n",
    "  images_json = json.load(f)\n"
   ]
  },
  {
   "cell_type": "code",
   "execution_count": null,
   "id": "ccb374d0",
   "metadata": {},
   "outputs": [],
   "source": [
    "# Create a DataFrame from images.json\n",
    "images_df = pd.DataFrame(images_json).set_index(\"image_id\")\n",
    "images_df.head()"
   ]
  },
  {
   "cell_type": "code",
   "execution_count": null,
   "id": "331c6795",
   "metadata": {},
   "outputs": [],
   "source": [
    "# Create images directory\n",
    "\n",
    "images_dir_path = os.path.join(INTERIM_DIR_PATH, \"images\")\n",
    "os.makedirs(images_dir_path, exist_ok=True)"
   ]
  },
  {
   "cell_type": "code",
   "execution_count": null,
   "id": "667f6330",
   "metadata": {},
   "outputs": [],
   "source": [
    "groups = images_df[\"group_id\"].unique().tolist()\n",
    "print(\"Len of groups: \", len(groups))\n",
    "groups[:5]"
   ]
  },
  {
   "cell_type": "code",
   "execution_count": null,
   "id": "4165497b",
   "metadata": {},
   "outputs": [],
   "source": [
    "def download_images_from_group(df, group_id):\n",
    "  images_group_dir_path = os.path.join(images_dir_path, group_id)\n",
    "  os.makedirs(images_group_dir_path, exist_ok=True)\n",
    "\n",
    "  images_group_df = df[df[\"group_id\"] == group_id]\n",
    "\n",
    "  for image_id, row in images_group_df.iterrows():\n",
    "    image_url = row[\"image_url\"]\n",
    "    res = requests.get(image_url, stream=True)\n",
    "\n",
    "    if res.status_code == 200:\n",
    "      image_file_name = image_id + \".jpg\"\n",
    "      image_file_path = os.path.join(images_group_dir_path, image_file_name)\n",
    "\n",
    "      with open(image_file_path, \"wb\") as f:\n",
    "        res.raw.decode_content = True\n",
    "        shutil.copyfileobj(res.raw, f)"
   ]
  },
  {
   "cell_type": "code",
   "execution_count": null,
   "id": "08a9601b",
   "metadata": {},
   "outputs": [],
   "source": [
    "download_images_from_group(images_df, groups[0])"
   ]
  },
  {
   "cell_type": "code",
   "execution_count": null,
   "id": "d5a9bc6d",
   "metadata": {},
   "outputs": [],
   "source": [
    "results_dir_path = os.path.join(PROCESSED_DIR_PATH, \"results\")\n",
    "os.makedirs(results_dir_path, exist_ok=True)"
   ]
  },
  {
   "cell_type": "code",
   "execution_count": null,
   "id": "a785336f",
   "metadata": {},
   "outputs": [],
   "source": [
    "encoder = CNN()"
   ]
  },
  {
   "cell_type": "code",
   "execution_count": null,
   "id": "7eced45e",
   "metadata": {},
   "outputs": [],
   "source": [
    "def find_duplicates(encoder, group_id):\n",
    "  images_group_dir_path = os.path.join(images_dir_path, group_id)\n",
    "  results_file_name = group_id + \".json\"\n",
    "  results_file_path = os.path.join(results_dir_path, results_file_name)\n",
    "  duplicates = encoder.find_duplicates(\n",
    "    image_dir=images_group_dir_path,\n",
    "    min_similarity_threshold=0.85,\n",
    "    scores=True,\n",
    "    outfile=results_file_path\n",
    "  )"
   ]
  },
  {
   "cell_type": "code",
   "execution_count": null,
   "id": "27dc4f29",
   "metadata": {},
   "outputs": [],
   "source": [
    "find_duplicates(encoder, groups[0])"
   ]
  },
  {
   "cell_type": "code",
   "execution_count": null,
   "id": "40cc77ae",
   "metadata": {},
   "outputs": [],
   "source": [
    "def load_results(group_id):\n",
    "  results_file_name = group_id + \".json\"\n",
    "  results_file_path = os.path.join(results_dir_path, results_file_name)\n",
    "\n",
    "  with open(results_file_path, \"rb\") as f:\n",
    "    results = json.load(f)\n",
    "\n",
    "  return results"
   ]
  },
  {
   "cell_type": "code",
   "execution_count": null,
   "id": "54ee2cc4",
   "metadata": {},
   "outputs": [],
   "source": [
    "results = load_results(groups[0])\n",
    "results"
   ]
  },
  {
   "cell_type": "code",
   "execution_count": null,
   "id": "5573954e",
   "metadata": {},
   "outputs": [],
   "source": [
    "# display images of each result\n",
    "def display_duplicate_images(group_id, first_n=5):\n",
    "  results = load_results(group_id)\n",
    "  images_group_dir_path = os.path.join(images_dir_path, group_id)\n",
    "  results_items = list(results.items())[:first_n]\n",
    "  for base_image, duplicate_images_list in results.items():\n",
    "    print(\"##########################\")\n",
    "    print(f\"Base image: {base_image}\")\n",
    "    display(Image(filename=os.path.join(images_group_dir_path, base_image), width=200, height=200))\n",
    "    for index, image in enumerate(duplicate_images_list):\n",
    "      image_file_path = os.path.join(images_group_dir_path, image[0])\n",
    "      print(f\"Duplicate image {index+1} (similarity: {image[1] * 100:.2f}): {image[0]}\")\n",
    "      display(Image(filename=image_file_path, width=200, height=200))\n",
    "    print(\"##########################\")"
   ]
  },
  {
   "cell_type": "code",
   "execution_count": null,
   "id": "25988b00",
   "metadata": {},
   "outputs": [],
   "source": [
    "display_duplicate_images(groups[0])"
   ]
  },
  {
   "cell_type": "code",
   "execution_count": null,
   "id": "db764eaa",
   "metadata": {},
   "outputs": [],
   "source": [
    "def delete_images_from_group(group_id):\n",
    "  images_group_dir_path = os.path.join(images_dir_path, group_id)\n",
    "  shutil.rmtree(images_group_dir_path)"
   ]
  },
  {
   "cell_type": "code",
   "execution_count": null,
   "id": "fe7e2901",
   "metadata": {},
   "outputs": [],
   "source": [
    "delete_images_from_group(groups[0])"
   ]
  }
 ],
 "metadata": {
  "kernelspec": {
   "display_name": "Python 3 (ipykernel)",
   "language": "python",
   "name": "python3"
  }
 },
 "nbformat": 4,
 "nbformat_minor": 5
}
